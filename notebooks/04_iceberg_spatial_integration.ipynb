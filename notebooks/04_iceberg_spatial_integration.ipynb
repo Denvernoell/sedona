{
 "cells": [
  {
   "cell_type": "markdown",
   "id": "2cb0c965",
   "metadata": {},
   "source": [
    "# Apache Iceberg with Sedona Spatial Analysis\n",
    "\n",
    "This notebook demonstrates how to use Apache Iceberg for spatial data storage and management with Sedona for geospatial processing."
   ]
  },
  {
   "cell_type": "code",
   "execution_count": null,
   "id": "1db638d1",
   "metadata": {},
   "outputs": [],
   "source": [
    "# Import required libraries\n",
    "import sys\n",
    "sys.path.append('/opt/workspace/config')\n",
    "\n",
    "from pyspark.sql import SparkSession\n",
    "from sedona.spark import SedonaContext\n",
    "import geopandas as gpd\n",
    "import folium\n",
    "import matplotlib.pyplot as plt\n",
    "from iceberg_spatial_config import (\n",
    "    create_spark_session_with_iceberg,\n",
    "    create_sedona_context,\n",
    "    create_spatial_iceberg_table_example,\n",
    "    spatial_query_example\n",
    ")"
   ]
  },
  {
   "cell_type": "markdown",
   "id": "640f9533",
   "metadata": {},
   "source": [
    "## Initialize Spark Session with Iceberg and Sedona"
   ]
  },
  {
   "cell_type": "code",
   "execution_count": null,
   "id": "fa074a5c",
   "metadata": {},
   "outputs": [],
   "source": [
    "# Create Spark session with Iceberg support\n",
    "spark = create_spark_session_with_iceberg()\n",
    "\n",
    "# Enable Sedona spatial functions\n",
    "sedona_spark = create_sedona_context(spark)\n",
    "\n",
    "print(f\"Spark Version: {spark.version}\")\n",
    "print(f\"Spark Session ID: {spark.sparkContext.applicationId}\")"
   ]
  },
  {
   "cell_type": "markdown",
   "id": "5db51759",
   "metadata": {},
   "source": [
    "## Create Iceberg Catalog and Spatial Tables"
   ]
  },
  {
   "cell_type": "code",
   "execution_count": null,
   "id": "35eda1df",
   "metadata": {},
   "outputs": [],
   "source": [
    "# Create namespace for spatial data\n",
    "sedona_spark.sql(\"CREATE NAMESPACE IF NOT EXISTS local.spatial_data\")\n",
    "\n",
    "# Create a spatial Iceberg table for points of interest\n",
    "create_table_sql = \"\"\"\n",
    "CREATE TABLE IF NOT EXISTS local.spatial_data.poi (\n",
    "    id BIGINT,\n",
    "    name STRING,\n",
    "    category STRING,\n",
    "    geometry GEOMETRY,\n",
    "    elevation DOUBLE,\n",
    "    population LONG,\n",
    "    created_at TIMESTAMP,\n",
    "    metadata MAP<STRING, STRING>\n",
    ") USING ICEBERG\n",
    "PARTITIONED BY (category, days(created_at))\n",
    "TBLPROPERTIES (\n",
    "    'write.parquet.compression-codec' = 'snappy',\n",
    "    'write.metadata.compression-codec' = 'gzip',\n",
    "    'write.object-storage.enabled' = 'true'\n",
    ")\n",
    "\"\"\"\n",
    "\n",
    "sedona_spark.sql(create_table_sql)\n",
    "print(\"Spatial Iceberg table created successfully!\")"
   ]
  },
  {
   "cell_type": "markdown",
   "id": "b53d0df8",
   "metadata": {},
   "source": [
    "## Insert Sample Spatial Data"
   ]
  },
  {
   "cell_type": "code",
   "execution_count": null,
   "id": "3da14644",
   "metadata": {},
   "outputs": [],
   "source": [
    "# Insert sample points of interest\n",
    "insert_data_sql = \"\"\"\n",
    "INSERT INTO local.spatial_data.poi VALUES\n",
    "    (1, 'San Francisco Bay Area', 'urban', ST_Point(-122.4194, 37.7749), 52.0, 884363, current_timestamp(), map('state', 'CA', 'country', 'USA')),\n",
    "    (2, 'New York City', 'urban', ST_Point(-74.0060, 40.7128), 10.0, 8336817, current_timestamp(), map('state', 'NY', 'country', 'USA')),\n",
    "    (3, 'Chicago', 'urban', ST_Point(-87.6298, 41.8781), 181.0, 2746388, current_timestamp(), map('state', 'IL', 'country', 'USA')),\n",
    "    (4, 'Los Angeles', 'urban', ST_Point(-118.2437, 34.0522), 87.0, 3898747, current_timestamp(), map('state', 'CA', 'country', 'USA')),\n",
    "    (5, 'Yellowstone National Park', 'park', ST_Point(-110.5885, 44.4280), 2400.0, 0, current_timestamp(), map('state', 'WY', 'country', 'USA')),\n",
    "    (6, 'Grand Canyon', 'park', ST_Point(-112.1401, 36.1069), 2100.0, 0, current_timestamp(), map('state', 'AZ', 'country', 'USA')),\n",
    "    (7, 'Miami', 'urban', ST_Point(-80.1918, 25.7617), 2.0, 467963, current_timestamp(), map('state', 'FL', 'country', 'USA')),\n",
    "    (8, 'Seattle', 'urban', ST_Point(-122.3321, 47.6062), 56.0, 753675, current_timestamp(), map('state', 'WA', 'country', 'USA'))\n",
    "\"\"\"\n",
    "\n",
    "sedona_spark.sql(insert_data_sql)\n",
    "print(\"Sample spatial data inserted!\")"
   ]
  },
  {
   "cell_type": "markdown",
   "id": "f3e0ed9a",
   "metadata": {},
   "source": [
    "## Spatial Queries with Iceberg Tables"
   ]
  },
  {
   "cell_type": "code",
   "execution_count": null,
   "id": "94f42249",
   "metadata": {},
   "outputs": [],
   "source": [
    "# Basic spatial query - show all data\n",
    "result = sedona_spark.sql(\"\"\"\n",
    "    SELECT \n",
    "        id,\n",
    "        name,\n",
    "        category,\n",
    "        ST_AsText(geometry) as wkt_geometry,\n",
    "        ST_X(geometry) as longitude,\n",
    "        ST_Y(geometry) as latitude,\n",
    "        elevation,\n",
    "        population\n",
    "    FROM local.spatial_data.poi\n",
    "    ORDER BY population DESC\n",
    "\"\"\")\n",
    "\n",
    "result.show(truncate=False)"
   ]
  },
  {
   "cell_type": "markdown",
   "id": "70d072c9",
   "metadata": {},
   "source": [
    "## Spatial Analysis Examples"
   ]
  },
  {
   "cell_type": "code",
   "execution_count": null,
   "id": "db7e89e6",
   "metadata": {},
   "outputs": [],
   "source": [
    "# Find cities within 500 miles of San Francisco\n",
    "nearby_cities = sedona_spark.sql(\"\"\"\n",
    "    SELECT \n",
    "        p1.name as origin,\n",
    "        p2.name as destination,\n",
    "        ST_Distance(p1.geometry, p2.geometry) * 69.0 as distance_miles,\n",
    "        p2.category,\n",
    "        p2.population\n",
    "    FROM local.spatial_data.poi p1\n",
    "    CROSS JOIN local.spatial_data.poi p2\n",
    "    WHERE p1.name = 'San Francisco Bay Area' \n",
    "        AND p2.name != 'San Francisco Bay Area'\n",
    "        AND ST_Distance(p1.geometry, p2.geometry) * 69.0 <= 500\n",
    "    ORDER BY distance_miles\n",
    "\"\"\")\n",
    "\n",
    "print(\"Cities within 500 miles of San Francisco:\")\n",
    "nearby_cities.show()"
   ]
  },
  {
   "cell_type": "code",
   "execution_count": null,
   "id": "d8a0606c",
   "metadata": {},
   "outputs": [],
   "source": [
    "# Create buffer zones around urban areas\n",
    "buffer_analysis = sedona_spark.sql(\"\"\"\n",
    "    SELECT \n",
    "        name,\n",
    "        category,\n",
    "        ST_AsText(ST_Buffer(geometry, 0.5)) as buffer_50miles,\n",
    "        population,\n",
    "        elevation\n",
    "    FROM local.spatial_data.poi\n",
    "    WHERE category = 'urban'\n",
    "    ORDER BY population DESC\n",
    "\"\"\")\n",
    "\n",
    "print(\"Buffer zones around urban areas:\")\n",
    "buffer_analysis.show(truncate=False)"
   ]
  },
  {
   "cell_type": "markdown",
   "id": "b078f3ac",
   "metadata": {},
   "source": [
    "## Time Travel with Iceberg"
   ]
  },
  {
   "cell_type": "code",
   "execution_count": null,
   "id": "3587a238",
   "metadata": {},
   "outputs": [],
   "source": [
    "# Show table history (Iceberg feature)\n",
    "history = sedona_spark.sql(\"\"\"\n",
    "    SELECT * FROM local.spatial_data.poi.history\n",
    "    ORDER BY made_current_at DESC\n",
    "\"\"\")\n",
    "\n",
    "print(\"Table history:\")\n",
    "history.show(truncate=False)"
   ]
  },
  {
   "cell_type": "code",
   "execution_count": null,
   "id": "7db37cfc",
   "metadata": {},
   "outputs": [],
   "source": [
    "# Show table snapshots (Iceberg feature)\n",
    "snapshots = sedona_spark.sql(\"\"\"\n",
    "    SELECT snapshot_id, committed_at, operation, summary \n",
    "    FROM local.spatial_data.poi.snapshots\n",
    "    ORDER BY committed_at DESC\n",
    "\"\"\")\n",
    "\n",
    "print(\"Table snapshots:\")\n",
    "snapshots.show(truncate=False)"
   ]
  },
  {
   "cell_type": "markdown",
   "id": "ac70c703",
   "metadata": {},
   "source": [
    "## Visualization with GeoPandas and Folium"
   ]
  },
  {
   "cell_type": "code",
   "execution_count": null,
   "id": "9a8a0255",
   "metadata": {},
   "outputs": [],
   "source": [
    "# Convert Spark DataFrame to Pandas for visualization\n",
    "pandas_df = sedona_spark.sql(\"\"\"\n",
    "    SELECT \n",
    "        name,\n",
    "        category,\n",
    "        ST_X(geometry) as longitude,\n",
    "        ST_Y(geometry) as latitude,\n",
    "        population,\n",
    "        elevation\n",
    "    FROM local.spatial_data.poi\n",
    "\"\"\").toPandas()\n",
    "\n",
    "# Create GeoDataFrame\n",
    "gdf = gpd.GeoDataFrame(\n",
    "    pandas_df, \n",
    "    geometry=gpd.points_from_xy(pandas_df.longitude, pandas_df.latitude),\n",
    "    crs='EPSG:4326'\n",
    ")\n",
    "\n",
    "print(f\"GeoDataFrame shape: {gdf.shape}\")\n",
    "gdf.head()"
   ]
  },
  {
   "cell_type": "code",
   "execution_count": null,
   "id": "e8b56a1f",
   "metadata": {},
   "outputs": [],
   "source": [
    "# Create interactive map with Folium\n",
    "center_lat = gdf['latitude'].mean()\n",
    "center_lon = gdf['longitude'].mean()\n",
    "\n",
    "m = folium.Map(location=[center_lat, center_lon], zoom_start=4)\n",
    "\n",
    "# Add points to map\n",
    "for idx, row in gdf.iterrows():\n",
    "    color = 'red' if row['category'] == 'urban' else 'green'\n",
    "    popup_text = f\"{row['name']}<br>Category: {row['category']}<br>Population: {row['population']:,}<br>Elevation: {row['elevation']}m\"\n",
    "    \n",
    "    folium.CircleMarker(\n",
    "        location=[row['latitude'], row['longitude']],\n",
    "        radius=8,\n",
    "        popup=popup_text,\n",
    "        color=color,\n",
    "        fill=True\n",
    "    ).add_to(m)\n",
    "\n",
    "m"
   ]
  },
  {
   "cell_type": "markdown",
   "id": "1356a032",
   "metadata": {},
   "source": [
    "## Performance Optimization with Iceberg"
   ]
  },
  {
   "cell_type": "code",
   "execution_count": null,
   "id": "bafa63af",
   "metadata": {},
   "outputs": [],
   "source": [
    "# Show table metadata and statistics\n",
    "table_files = sedona_spark.sql(\"\"\"\n",
    "    SELECT file_path, file_format, record_count, file_size_in_bytes\n",
    "    FROM local.spatial_data.poi.files\n",
    "\"\"\")\n",
    "\n",
    "print(\"Table files information:\")\n",
    "table_files.show(truncate=False)"
   ]
  },
  {
   "cell_type": "code",
   "execution_count": null,
   "id": "d087f616",
   "metadata": {},
   "outputs": [],
   "source": [
    "# Optimize table (compaction)\n",
    "sedona_spark.sql(\"\"\"\n",
    "    CALL local.system.rewrite_data_files(\n",
    "        table => 'local.spatial_data.poi'\n",
    "    )\n",
    "\"\"\")\n",
    "\n",
    "print(\"Table optimized!\")"
   ]
  },
  {
   "cell_type": "markdown",
   "id": "058abf85",
   "metadata": {},
   "source": [
    "## Cleanup"
   ]
  },
  {
   "cell_type": "code",
   "execution_count": null,
   "id": "69e03c2b",
   "metadata": {},
   "outputs": [],
   "source": [
    "# Stop Spark session\n",
    "spark.stop()\n",
    "print(\"Spark session stopped.\")"
   ]
  }
 ],
 "metadata": {
  "language_info": {
   "name": "python"
  }
 },
 "nbformat": 4,
 "nbformat_minor": 5
}

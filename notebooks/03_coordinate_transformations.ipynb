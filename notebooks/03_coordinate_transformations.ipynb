{
 "cells": [
  {
   "cell_type": "markdown",
   "id": "9ab25f78",
   "metadata": {},
   "source": [
    "# Coordinate Reference System Transformations\n",
    "\n",
    "This notebook demonstrates CRS transformations and working with projected coordinate systems in Apache Sedona."
   ]
  },
  {
   "cell_type": "code",
   "execution_count": null,
   "id": "1c445cae",
   "metadata": {},
   "outputs": [],
   "source": [
    "from sedona.spark import SedonaContext\n",
    "from pyspark.sql import SparkSession\n",
    "from pyspark.sql.types import *\n",
    "from typing import Dict, Any\n",
    "import math"
   ]
  },
  {
   "cell_type": "code",
   "execution_count": null,
   "id": "ef7e0180",
   "metadata": {},
   "outputs": [],
   "source": [
    "# Initialize Sedona with CRS support\n",
    "def create_sedona_with_crs() -> SedonaContext:\n",
    "    \"\"\"Create Sedona session with CRS transformation support.\"\"\"\n",
    "    spark = SparkSession.builder \\\n",
    "        .appName(\"CRSTransformations\") \\\n",
    "        .config(\"spark.serializer\", \"org.apache.spark.serializer.KryoSerializer\") \\\n",
    "        .config(\"spark.kryo.registrator\", \"org.apache.sedona.core.serde.SedonaKryoRegistrator\") \\\n",
    "        .config(\"spark.sql.adaptive.enabled\", \"false\") \\\n",
    "        .getOrCreate()\n",
    "    \n",
    "    return SedonaContext.create(spark)\n",
    "\n",
    "sedona = create_sedona_with_crs()\n",
    "print(\"Sedona session with CRS support initialized\")"
   ]
  },
  {
   "cell_type": "code",
   "execution_count": null,
   "id": "7bbce892",
   "metadata": {},
   "outputs": [],
   "source": [
    "# Sample GPS coordinates (WGS84 - EPSG:4326)\n",
    "gps_coordinates_data = [\n",
    "    (\"Central Park\", -73.9657, 40.7829),\n",
    "    (\"Golden Gate Bridge\", -122.4783, 37.8199),\n",
    "    (\"Space Needle\", -122.3493, 47.6205),\n",
    "    (\"Lincoln Memorial\", -77.0502, 38.8893),\n",
    "]\n",
    "\n",
    "gps_schema = StructType([\n",
    "    StructField(\"landmark\", StringType(), True),\n",
    "    StructField(\"longitude\", DoubleType(), True),\n",
    "    StructField(\"latitude\", DoubleType(), True)\n",
    "])\n",
    "\n",
    "gps_df = sedona.createDataFrame(gps_coordinates_data, gps_schema)\n",
    "gps_df.createOrReplaceTempView(\"gps_points\")"
   ]
  },
  {
   "cell_type": "code",
   "execution_count": null,
   "id": "12546c8f",
   "metadata": {},
   "outputs": [],
   "source": [
    "# Transform WGS84 to Web Mercator (EPSG:3857) for web mapping\n",
    "web_mercator_df = sedona.sql(\"\"\"\n",
    "    SELECT \n",
    "        landmark,\n",
    "        longitude,\n",
    "        latitude,\n",
    "        ST_Point(longitude, latitude) as wgs84_geometry,\n",
    "        ST_Transform(ST_Point(longitude, latitude), 'EPSG:4326', 'EPSG:3857') as web_mercator_geometry,\n",
    "        ST_X(ST_Transform(ST_Point(longitude, latitude), 'EPSG:4326', 'EPSG:3857')) as mercator_x,\n",
    "        ST_Y(ST_Transform(ST_Point(longitude, latitude), 'EPSG:4326', 'EPSG:3857')) as mercator_y\n",
    "    FROM gps_points\n",
    "\"\"\")\n",
    "\n",
    "print(\"WGS84 to Web Mercator transformation:\")\n",
    "web_mercator_df.show(truncate=False)"
   ]
  },
  {
   "cell_type": "code",
   "execution_count": null,
   "id": "3dd3fa0e",
   "metadata": {},
   "outputs": [],
   "source": [
    "# Transform to UTM zones for accurate distance measurements\n",
    "utm_transform_df = sedona.sql(\"\"\"\n",
    "    SELECT \n",
    "        landmark,\n",
    "        longitude,\n",
    "        latitude,\n",
    "        ST_Point(longitude, latitude) as original_point,\n",
    "        CASE \n",
    "            WHEN longitude BETWEEN -126 AND -120 THEN ST_Transform(ST_Point(longitude, latitude), 'EPSG:4326', 'EPSG:32610')\n",
    "            WHEN longitude BETWEEN -120 AND -114 THEN ST_Transform(ST_Point(longitude, latitude), 'EPSG:4326', 'EPSG:32611')\n",
    "            WHEN longitude BETWEEN -78 AND -72 THEN ST_Transform(ST_Point(longitude, latitude), 'EPSG:4326', 'EPSG:32618')\n",
    "            ELSE ST_Point(longitude, latitude)\n",
    "        END as utm_geometry,\n",
    "        CASE \n",
    "            WHEN longitude BETWEEN -126 AND -120 THEN 'UTM Zone 10N (EPSG:32610)'\n",
    "            WHEN longitude BETWEEN -120 AND -114 THEN 'UTM Zone 11N (EPSG:32611)'\n",
    "            WHEN longitude BETWEEN -78 AND -72 THEN 'UTM Zone 18N (EPSG:32618)'\n",
    "            ELSE 'No UTM transformation'\n",
    "        END as utm_zone\n",
    "    FROM gps_points\n",
    "\"\"\")\n",
    "\n",
    "print(\"UTM zone transformations by longitude:\")\n",
    "utm_transform_df.show(truncate=False)"
   ]
  },
  {
   "cell_type": "code",
   "execution_count": null,
   "id": "af9266d1",
   "metadata": {},
   "outputs": [],
   "source": [
    "# Calculate accurate distances using projected coordinates\n",
    "def calculate_projected_distances():\n",
    "    \"\"\"Calculate distances using appropriate projections.\"\"\"\n",
    "    distance_df = sedona.sql(\"\"\"\n",
    "        WITH projected_points AS (\n",
    "            SELECT \n",
    "                landmark,\n",
    "                longitude,\n",
    "                latitude,\n",
    "                ST_Point(longitude, latitude) as wgs84_point,\n",
    "                ST_Transform(ST_Point(longitude, latitude), 'EPSG:4326', 'EPSG:3857') as mercator_point\n",
    "            FROM gps_points\n",
    "        )\n",
    "        SELECT \n",
    "            p1.landmark as landmark1,\n",
    "            p2.landmark as landmark2,\n",
    "            ST_Distance(p1.wgs84_point, p2.wgs84_point) as distance_degrees,\n",
    "            ST_Distance(p1.mercator_point, p2.mercator_point) as distance_meters_approx,\n",
    "            ST_Distance(p1.mercator_point, p2.mercator_point) / 1000 as distance_km_approx\n",
    "        FROM projected_points p1\n",
    "        CROSS JOIN projected_points p2\n",
    "        WHERE p1.landmark != p2.landmark\n",
    "        ORDER BY distance_degrees\n",
    "    \"\"\")\n",
    "    \n",
    "    return distance_df\n",
    "\n",
    "distance_comparison_df = calculate_projected_distances()\n",
    "print(\"Distance calculations in different coordinate systems:\")\n",
    "distance_comparison_df.show()"
   ]
  },
  {
   "cell_type": "code",
   "execution_count": null,
   "id": "83b48f68",
   "metadata": {},
   "outputs": [],
   "source": [
    "# Validate CRS transformations\n",
    "validation_df = sedona.sql(\"\"\"\n",
    "    SELECT \n",
    "        landmark,\n",
    "        ST_IsValid(ST_Point(longitude, latitude)) as wgs84_valid,\n",
    "        ST_IsValid(ST_Transform(ST_Point(longitude, latitude), 'EPSG:4326', 'EPSG:3857')) as mercator_valid,\n",
    "        ST_SRID(ST_Point(longitude, latitude)) as original_srid,\n",
    "        ST_SRID(ST_Transform(ST_Point(longitude, latitude), 'EPSG:4326', 'EPSG:3857')) as transformed_srid\n",
    "    FROM gps_points\n",
    "\"\"\")\n",
    "\n",
    "print(\"CRS transformation validation:\")\n",
    "validation_df.show()"
   ]
  },
  {
   "cell_type": "markdown",
   "id": "b7793a4a",
   "metadata": {},
   "source": [
    "## CRS Transformation Guidelines\n",
    "\n",
    "1. **WGS84 (EPSG:4326)**: Standard GPS coordinates, degrees\n",
    "2. **Web Mercator (EPSG:3857)**: Web mapping, approximate distances\n",
    "3. **UTM**: Accurate measurements, choose appropriate zone\n",
    "4. **Always validate**: Use `ST_IsValid()` after transformations\n",
    "5. **Performance**: Cache transformed geometries for repeated use\n",
    "\n",
    "### Common EPSG Codes\n",
    "- 4326: WGS84 (GPS coordinates)\n",
    "- 3857: Web Mercator (web maps)  \n",
    "- 32610-32660: UTM Northern Hemisphere zones\n",
    "- 32710-32760: UTM Southern Hemisphere zones"
   ]
  }
 ],
 "metadata": {
  "language_info": {
   "name": "python"
  }
 },
 "nbformat": 4,
 "nbformat_minor": 5
}

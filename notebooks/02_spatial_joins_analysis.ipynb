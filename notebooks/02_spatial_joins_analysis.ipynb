{
 "cells": [
  {
   "cell_type": "markdown",
   "id": "b4d7f1fd",
   "metadata": {},
   "source": [
    "# Spatial Joins and Analysis with Apache Sedona\n",
    "\n",
    "This notebook demonstrates spatial joins, buffering, and intersection operations using Apache Sedona."
   ]
  },
  {
   "cell_type": "code",
   "execution_count": null,
   "id": "9bb163d5",
   "metadata": {},
   "outputs": [],
   "source": [
    "from sedona.spark import SedonaContext\n",
    "from pyspark.sql import SparkSession\n",
    "from pyspark.sql.types import *\n",
    "from typing import List, Tuple\n",
    "import logging\n",
    "\n",
    "# Setup logging\n",
    "logging.basicConfig(level=logging.INFO)\n",
    "logger = logging.getLogger(__name__)"
   ]
  },
  {
   "cell_type": "code",
   "execution_count": null,
   "id": "49c8e378",
   "metadata": {},
   "outputs": [],
   "source": [
    "# Initialize Sedona session\n",
    "sedona = SedonaContext.create(\n",
    "    SparkSession.builder\n",
    "    .appName(\"SpatialJoinsAnalysis\")\n",
    "    .config(\"spark.serializer\", \"org.apache.spark.serializer.KryoSerializer\")\n",
    "    .config(\"spark.kryo.registrator\", \"org.apache.sedona.core.serde.SedonaKryoRegistrator\")\n",
    "    .getOrCreate()\n",
    ")\n",
    "\n",
    "logger.info(\"Sedona session initialized for spatial analysis\")"
   ]
  },
  {
   "cell_type": "code",
   "execution_count": null,
   "id": "100fabf3",
   "metadata": {},
   "outputs": [],
   "source": [
    "# Create sample city points\n",
    "cities_data = [\n",
    "    (\"NYC\", -74.0059, 40.7128, 8500000),\n",
    "    (\"LA\", -118.2437, 34.0522, 4000000),\n",
    "    (\"Chicago\", -87.6298, 41.8781, 2700000),\n",
    "    (\"Houston\", -95.3698, 29.7604, 2300000),\n",
    "    (\"Phoenix\", -112.0740, 33.4484, 1700000),\n",
    "]\n",
    "\n",
    "cities_schema = StructType([\n",
    "    StructField(\"city_name\", StringType(), True),\n",
    "    StructField(\"longitude\", DoubleType(), True),\n",
    "    StructField(\"latitude\", DoubleType(), True),\n",
    "    StructField(\"population\", IntegerType(), True)\n",
    "])\n",
    "\n",
    "cities_df = sedona.createDataFrame(cities_data, cities_schema)\n",
    "cities_df.createOrReplaceTempView(\"cities\")"
   ]
  },
  {
   "cell_type": "code",
   "execution_count": null,
   "id": "3d0f4af5",
   "metadata": {},
   "outputs": [],
   "source": [
    "# Create sample polygon regions (simplified state boundaries)\n",
    "regions_data = [\n",
    "    (\"California\", \"POLYGON((-124.4 32.5, -114.1 32.5, -114.1 42.0, -124.4 42.0, -124.4 32.5))\"),\n",
    "    (\"Texas\", \"POLYGON((-106.6 25.8, -93.5 25.8, -93.5 36.5, -106.6 36.5, -106.6 25.8))\"),\n",
    "    (\"New York\", \"POLYGON((-79.8 40.5, -71.9 40.5, -71.9 45.0, -79.8 45.0, -79.8 40.5))\"),\n",
    "]\n",
    "\n",
    "regions_schema = StructType([\n",
    "    StructField(\"state_name\", StringType(), True),\n",
    "    StructField(\"geometry_wkt\", StringType(), True)\n",
    "])\n",
    "\n",
    "regions_df = sedona.createDataFrame(regions_data, regions_schema)\n",
    "regions_df.createOrReplaceTempView(\"regions\")"
   ]
  },
  {
   "cell_type": "code",
   "execution_count": null,
   "id": "4a9ad8b0",
   "metadata": {},
   "outputs": [],
   "source": [
    "# Perform spatial join: cities within states\n",
    "spatial_join_df = sedona.sql(\"\"\"\n",
    "    SELECT \n",
    "        c.city_name,\n",
    "        c.population,\n",
    "        r.state_name,\n",
    "        ST_Point(c.longitude, c.latitude) as city_geometry,\n",
    "        ST_GeomFromWKT(r.geometry_wkt) as state_geometry,\n",
    "        ST_Contains(ST_GeomFromWKT(r.geometry_wkt), ST_Point(c.longitude, c.latitude)) as is_within\n",
    "    FROM cities c\n",
    "    CROSS JOIN regions r\n",
    "    WHERE ST_Contains(ST_GeomFromWKT(r.geometry_wkt), ST_Point(c.longitude, c.latitude))\n",
    "\"\"\")\n",
    "\n",
    "print(\"Cities within their respective states:\")\n",
    "spatial_join_df.show()"
   ]
  },
  {
   "cell_type": "code",
   "execution_count": null,
   "id": "3596840c",
   "metadata": {},
   "outputs": [],
   "source": [
    "# Create buffers around cities and find intersections\n",
    "buffer_analysis_df = sedona.sql(\"\"\"\n",
    "    WITH city_buffers AS (\n",
    "        SELECT \n",
    "            city_name,\n",
    "            population,\n",
    "            ST_Point(longitude, latitude) as city_point,\n",
    "            ST_Buffer(ST_Point(longitude, latitude), 2.0) as city_buffer_2deg\n",
    "        FROM cities\n",
    "    ),\n",
    "    intersections AS (\n",
    "        SELECT \n",
    "            c1.city_name as city1,\n",
    "            c2.city_name as city2,\n",
    "            c1.population as pop1,\n",
    "            c2.population as pop2,\n",
    "            ST_Intersects(c1.city_buffer_2deg, c2.city_point) as buffers_intersect,\n",
    "            ST_Distance(c1.city_point, c2.city_point) as distance_degrees\n",
    "        FROM city_buffers c1\n",
    "        CROSS JOIN city_buffers c2\n",
    "        WHERE c1.city_name != c2.city_name\n",
    "    )\n",
    "    SELECT *\n",
    "    FROM intersections \n",
    "    WHERE buffers_intersect = true\n",
    "    ORDER BY distance_degrees\n",
    "\"\"\")\n",
    "\n",
    "print(\"Cities within 2-degree buffer of each other:\")\n",
    "buffer_analysis_df.show()"
   ]
  },
  {
   "cell_type": "code",
   "execution_count": null,
   "id": "22954a79",
   "metadata": {},
   "outputs": [],
   "source": [
    "# Advanced spatial aggregation: convex hull of major cities\n",
    "convex_hull_df = sedona.sql(\"\"\"\n",
    "    SELECT \n",
    "        ST_ConvexHull(\n",
    "            ST_Collect(ST_Point(longitude, latitude))\n",
    "        ) as cities_convex_hull,\n",
    "        COUNT(*) as total_cities,\n",
    "        SUM(population) as total_population\n",
    "    FROM cities\n",
    "    WHERE population > 2000000\n",
    "\"\"\")\n",
    "\n",
    "print(\"Convex hull and statistics for major cities:\")\n",
    "convex_hull_df.show(truncate=False)"
   ]
  },
  {
   "cell_type": "code",
   "execution_count": null,
   "id": "21f0eab4",
   "metadata": {},
   "outputs": [],
   "source": [
    "# Performance optimization: cache intermediate results\n",
    "def cache_spatial_dataframe(df, name: str):\n",
    "    \"\"\"Cache spatial dataframe for performance.\"\"\"\n",
    "    df.cache()\n",
    "    count = df.count()\n",
    "    logger.info(f\"Cached {name} with {count} rows\")\n",
    "    return df\n",
    "\n",
    "# Cache the spatial join result for further analysis\n",
    "cached_spatial_join = cache_spatial_dataframe(spatial_join_df, \"spatial_join_result\")"
   ]
  },
  {
   "cell_type": "markdown",
   "id": "61d5f55d",
   "metadata": {},
   "source": [
    "## Spatial Analysis Best Practices\n",
    "\n",
    "1. **Spatial Joins**: Use `ST_Contains`, `ST_Intersects`, `ST_Within` for relationships\n",
    "2. **Buffering**: `ST_Buffer()` creates circular zones around geometries  \n",
    "3. **Aggregations**: `ST_ConvexHull`, `ST_Union` for combining geometries\n",
    "4. **Performance**: Cache intermediate results for complex workflows\n",
    "5. **Validation**: Always validate geometries before spatial operations"
   ]
  }
 ],
 "metadata": {
  "language_info": {
   "name": "python"
  }
 },
 "nbformat": 4,
 "nbformat_minor": 5
}
